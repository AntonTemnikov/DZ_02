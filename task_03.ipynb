{
 "cells": [
  {
   "cell_type": "code",
   "execution_count": 33,
   "metadata": {},
   "outputs": [
    {
     "name": "stdout",
     "output_type": "stream",
     "text": [
      "{'Alex'} {'Emma'}\n",
      "{'Arthur'} {'Kate'}\n",
      "{'John'} {'Kira'}\n",
      "{'Peter'} {'Liza'}\n",
      "{'Richard'} {'Trisha'}\n"
     ]
    }
   ],
   "source": [
    "boys = ['Peter','Alex','John','Arthur','Richard']\n",
    "girls = ['Kate','Liza','Kira','Emma','Trisha']\n",
    "if len(boys) != len(girls):\n",
    "    print(\"Внимание, кто-то может остаться без пары!\")\n",
    "else:\n",
    "    sort_boys = sorted(boys)\n",
    "    sort_girls = sorted(girls)\n",
    "    pair = zip(sort_boys,sort_girls)\n",
    "    pairs = list(pair)\n",
    "    for name in pairs:\n",
    "        print({name[0]},{name[1]})"
   ]
  }
 ],
 "metadata": {
  "kernelspec": {
   "display_name": "Python 3",
   "language": "python",
   "name": "python3"
  },
  "language_info": {
   "codemirror_mode": {
    "name": "ipython",
    "version": 3
   },
   "file_extension": ".py",
   "mimetype": "text/x-python",
   "name": "python",
   "nbconvert_exporter": "python",
   "pygments_lexer": "ipython3",
   "version": "3.8.5"
  }
 },
 "nbformat": 4,
 "nbformat_minor": 4
}
